{
 "cells": [
  {
   "cell_type": "markdown",
   "id": "bddc043a",
   "metadata": {},
   "source": [
    "# Guide to `facts.py` module"
   ]
  },
  {
   "cell_type": "code",
   "execution_count": 1,
   "id": "92904561",
   "metadata": {},
   "outputs": [],
   "source": [
    "from randomly.facts import generate_random_fact"
   ]
  },
  {
   "cell_type": "markdown",
   "id": "6ce8a4b5",
   "metadata": {},
   "source": [
    "The function accepts arguments for the output format and the language of the random fact."
   ]
  },
  {
   "cell_type": "code",
   "execution_count": 2,
   "id": "3c5b165e",
   "metadata": {},
   "outputs": [
    {
     "data": {
      "text/plain": [
       "'> Approximately every seven minutes of every day, someone in an aerobics class pulls their hamstring.\\n\\nSource: [djtech.net](http://www.djtech.net/humor/useless_facts.htm)'"
      ]
     },
     "execution_count": 2,
     "metadata": {},
     "output_type": "execute_result"
    }
   ],
   "source": [
    "generate_random_fact('txt', 'en')"
   ]
  },
  {
   "cell_type": "code",
   "execution_count": null,
   "id": "4979fe44",
   "metadata": {},
   "outputs": [],
   "source": []
  }
 ],
 "metadata": {
  "kernelspec": {
   "display_name": "Python 3 (ipykernel)",
   "language": "python",
   "name": "python3"
  },
  "language_info": {
   "codemirror_mode": {
    "name": "ipython",
    "version": 3
   },
   "file_extension": ".py",
   "mimetype": "text/x-python",
   "name": "python",
   "nbconvert_exporter": "python",
   "pygments_lexer": "ipython3",
   "version": "3.9.12"
  }
 },
 "nbformat": 4,
 "nbformat_minor": 5
}
